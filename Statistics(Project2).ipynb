{
 "cells": [
  {
   "cell_type": "code",
   "execution_count": 8,
   "id": "ada92dc2",
   "metadata": {},
   "outputs": [],
   "source": [
    "import pandas as pd\n",
    "import seaborn as sns\n",
    "import matplotlib.pyplot as plt\n",
    "from scipy.stats import pearsonr, spearmanr, ttest_ind\n",
    "import statsmodels.api as sm\n",
    "import statsmodels.formula.api as smf"
   ]
  },
  {
   "cell_type": "code",
   "execution_count": 9,
   "id": "ea7eed97",
   "metadata": {},
   "outputs": [
    {
     "data": {
      "text/html": [
       "<div>\n",
       "<style scoped>\n",
       "    .dataframe tbody tr th:only-of-type {\n",
       "        vertical-align: middle;\n",
       "    }\n",
       "\n",
       "    .dataframe tbody tr th {\n",
       "        vertical-align: top;\n",
       "    }\n",
       "\n",
       "    .dataframe thead th {\n",
       "        text-align: right;\n",
       "    }\n",
       "</style>\n",
       "<table border=\"1\" class=\"dataframe\">\n",
       "  <thead>\n",
       "    <tr style=\"text-align: right;\">\n",
       "      <th></th>\n",
       "      <th>gender</th>\n",
       "      <th>race/ethnicity</th>\n",
       "      <th>parental_level_of_education</th>\n",
       "      <th>lunch</th>\n",
       "      <th>test_preparation_course</th>\n",
       "      <th>math_score</th>\n",
       "      <th>reading_score</th>\n",
       "      <th>writing_score</th>\n",
       "      <th>family_support</th>\n",
       "      <th>alcohol_consumption</th>\n",
       "    </tr>\n",
       "  </thead>\n",
       "  <tbody>\n",
       "    <tr>\n",
       "      <th>0</th>\n",
       "      <td>female</td>\n",
       "      <td>group B</td>\n",
       "      <td>bachelor's degree</td>\n",
       "      <td>standard</td>\n",
       "      <td>not_completed</td>\n",
       "      <td>72.0</td>\n",
       "      <td>72.0</td>\n",
       "      <td>74.0</td>\n",
       "      <td>no</td>\n",
       "      <td>yes</td>\n",
       "    </tr>\n",
       "    <tr>\n",
       "      <th>1</th>\n",
       "      <td>female</td>\n",
       "      <td>group C</td>\n",
       "      <td>some college</td>\n",
       "      <td>standard</td>\n",
       "      <td>completed</td>\n",
       "      <td>69.0</td>\n",
       "      <td>90.0</td>\n",
       "      <td>88.0</td>\n",
       "      <td>yes</td>\n",
       "      <td>yes</td>\n",
       "    </tr>\n",
       "    <tr>\n",
       "      <th>2</th>\n",
       "      <td>female</td>\n",
       "      <td>group B</td>\n",
       "      <td>master's degree</td>\n",
       "      <td>standard</td>\n",
       "      <td>not_completed</td>\n",
       "      <td>90.0</td>\n",
       "      <td>95.0</td>\n",
       "      <td>93.0</td>\n",
       "      <td>no</td>\n",
       "      <td>yes</td>\n",
       "    </tr>\n",
       "    <tr>\n",
       "      <th>3</th>\n",
       "      <td>male</td>\n",
       "      <td>group A</td>\n",
       "      <td>associate's degree</td>\n",
       "      <td>free/reduced</td>\n",
       "      <td>not_completed</td>\n",
       "      <td>47.0</td>\n",
       "      <td>57.0</td>\n",
       "      <td>44.0</td>\n",
       "      <td>no</td>\n",
       "      <td>yes</td>\n",
       "    </tr>\n",
       "    <tr>\n",
       "      <th>4</th>\n",
       "      <td>male</td>\n",
       "      <td>group C</td>\n",
       "      <td>some college</td>\n",
       "      <td>standard</td>\n",
       "      <td>not_completed</td>\n",
       "      <td>76.0</td>\n",
       "      <td>78.0</td>\n",
       "      <td>75.0</td>\n",
       "      <td>no</td>\n",
       "      <td>no</td>\n",
       "    </tr>\n",
       "  </tbody>\n",
       "</table>\n",
       "</div>"
      ],
      "text/plain": [
       "   gender race/ethnicity parental_level_of_education         lunch  \\\n",
       "0  female        group B           bachelor's degree      standard   \n",
       "1  female        group C                some college      standard   \n",
       "2  female        group B             master's degree      standard   \n",
       "3    male        group A          associate's degree  free/reduced   \n",
       "4    male        group C                some college      standard   \n",
       "\n",
       "  test_preparation_course  math_score  reading_score  writing_score  \\\n",
       "0           not_completed        72.0           72.0           74.0   \n",
       "1               completed        69.0           90.0           88.0   \n",
       "2           not_completed        90.0           95.0           93.0   \n",
       "3           not_completed        47.0           57.0           44.0   \n",
       "4           not_completed        76.0           78.0           75.0   \n",
       "\n",
       "  family_support alcohol_consumption  \n",
       "0             no                 yes  \n",
       "1            yes                 yes  \n",
       "2             no                 yes  \n",
       "3             no                 yes  \n",
       "4             no                  no  "
      ]
     },
     "execution_count": 9,
     "metadata": {},
     "output_type": "execute_result"
    }
   ],
   "source": [
    "df=pd.read_csv(\"cleaned_students_performance.csv\")\n",
    "df.head(5)"
   ]
  },
  {
   "cell_type": "code",
   "execution_count": 10,
   "id": "7bee1dd7",
   "metadata": {},
   "outputs": [
    {
     "data": {
      "text/plain": [
       "Index(['gender', 'race/ethnicity', 'parental_level_of_education', 'lunch',\n",
       "       'test_preparation_course', 'math_score', 'reading_score',\n",
       "       'writing_score', 'family_support', 'alcohol_consumption'],\n",
       "      dtype='object')"
      ]
     },
     "execution_count": 10,
     "metadata": {},
     "output_type": "execute_result"
    }
   ],
   "source": [
    "df.columns"
   ]
  },
  {
   "cell_type": "code",
   "execution_count": 11,
   "id": "336e20d0",
   "metadata": {},
   "outputs": [
    {
     "data": {
      "text/plain": [
       "gender                          object\n",
       "race/ethnicity                  object\n",
       "parental_level_of_education     object\n",
       "lunch                           object\n",
       "test_preparation_course         object\n",
       "math_score                     float64\n",
       "reading_score                  float64\n",
       "writing_score                  float64\n",
       "family_support                  object\n",
       "alcohol_consumption             object\n",
       "dtype: object"
      ]
     },
     "execution_count": 11,
     "metadata": {},
     "output_type": "execute_result"
    }
   ],
   "source": [
    "df.dtypes"
   ]
  },
  {
   "cell_type": "code",
   "execution_count": 12,
   "id": "0efb0e10",
   "metadata": {},
   "outputs": [
    {
     "name": "stdout",
     "output_type": "stream",
     "text": [
      "Pearson Correlation (Math vs Reading): PearsonRResult(statistic=0.7988810193945513, pvalue=1.831074448784342e-219)\n",
      "Spearman Correlation (Math vs Writing): SignificanceResult(statistic=0.7688018514907428, pvalue=2.868621472261735e-193)\n"
     ]
    }
   ],
   "source": [
    "# 1. Correlation (Pearson and Spearman)\n",
    "print(\"Pearson Correlation (Math vs Reading):\", pearsonr(df['math_score'], df['reading_score']))\n",
    "print(\"Spearman Correlation (Math vs Writing):\", spearmanr(df['math_score'], df['writing_score']))"
   ]
  },
  {
   "cell_type": "code",
   "execution_count": 13,
   "id": "9041f631",
   "metadata": {},
   "outputs": [
    {
     "name": "stdout",
     "output_type": "stream",
     "text": [
      "T-test for Math Score based on Test Preparation: t=5.23, p=0.0000\n"
     ]
    }
   ],
   "source": [
    "# 2. T-test: Performance vs Test Preparation\n",
    "completed = df[df['test_preparation_course'] == 'completed']['math_score']\n",
    "not_completed = df[df['test_preparation_course'] == 'not_completed']['math_score']\n",
    "t_stat, p_val = ttest_ind(completed, not_completed)\n",
    "print(f\"T-test for Math Score based on Test Preparation: t={t_stat:.2f}, p={p_val:.4f}\")\n"
   ]
  },
  {
   "cell_type": "code",
   "execution_count": 14,
   "id": "3f34c3ae",
   "metadata": {},
   "outputs": [
    {
     "name": "stdout",
     "output_type": "stream",
     "text": [
      "\n",
      "ANOVA: Math Score ~ Lunch Type\n",
      "                 sum_sq     df           F        PR(>F)\n",
      "C(lunch)   23127.172572    1.0  126.818906  9.339249e-28\n",
      "Residual  179445.940004  984.0         NaN           NaN\n"
     ]
    }
   ],
   "source": [
    "# 3. One-way ANOVA: Math score across lunch types\n",
    "anova = smf.ols('math_score ~ C(lunch)', data=df).fit()\n",
    "anova_table = sm.stats.anova_lm(anova, typ=2)\n",
    "print(\"\\nANOVA: Math Score ~ Lunch Type\")\n",
    "print(anova_table)\n"
   ]
  },
  {
   "cell_type": "code",
   "execution_count": 15,
   "id": "a025fa8e",
   "metadata": {},
   "outputs": [
    {
     "name": "stdout",
     "output_type": "stream",
     "text": [
      "\n",
      "Regression Summary:\n",
      "                            OLS Regression Results                            \n",
      "==============================================================================\n",
      "Dep. Variable:             math_score   R-squared:                       0.643\n",
      "Model:                            OLS   Adj. R-squared:                  0.642\n",
      "Method:                 Least Squares   F-statistic:                     885.6\n",
      "Date:                Sat, 07 Jun 2025   Prob (F-statistic):          1.20e-220\n",
      "Time:                        22:41:24   Log-Likelihood:                -3516.5\n",
      "No. Observations:                 986   AIC:                             7039.\n",
      "Df Residuals:                     983   BIC:                             7054.\n",
      "Df Model:                           2                                         \n",
      "Covariance Type:            nonrobust                                         \n",
      "=================================================================================\n",
      "                    coef    std err          t      P>|t|      [0.025      0.975]\n",
      "---------------------------------------------------------------------------------\n",
      "Intercept         9.2803      1.397      6.645      0.000       6.540      12.021\n",
      "reading_score     0.6047      0.063      9.627      0.000       0.481       0.728\n",
      "writing_score     0.2221      0.061      3.668      0.000       0.103       0.341\n",
      "==============================================================================\n",
      "Omnibus:                        9.985   Durbin-Watson:                   2.052\n",
      "Prob(Omnibus):                  0.007   Jarque-Bera (JB):                6.702\n",
      "Skew:                           0.024   Prob(JB):                       0.0351\n",
      "Kurtosis:                       2.599   Cond. No.                         511.\n",
      "==============================================================================\n",
      "\n",
      "Notes:\n",
      "[1] Standard Errors assume that the covariance matrix of the errors is correctly specified.\n"
     ]
    }
   ],
   "source": [
    "# 4. Regression: Predicting math score\n",
    "model = smf.ols('math_score ~ reading_score + writing_score', data=df).fit()\n",
    "print(\"\\nRegression Summary:\")\n",
    "print(model.summary())"
   ]
  },
  {
   "cell_type": "code",
   "execution_count": null,
   "id": "a6a79f2a",
   "metadata": {},
   "outputs": [],
   "source": []
  }
 ],
 "metadata": {
  "kernelspec": {
   "display_name": "Python 3 (ipykernel)",
   "language": "python",
   "name": "python3"
  },
  "language_info": {
   "codemirror_mode": {
    "name": "ipython",
    "version": 3
   },
   "file_extension": ".py",
   "mimetype": "text/x-python",
   "name": "python",
   "nbconvert_exporter": "python",
   "pygments_lexer": "ipython3",
   "version": "3.11.5"
  }
 },
 "nbformat": 4,
 "nbformat_minor": 5
}
